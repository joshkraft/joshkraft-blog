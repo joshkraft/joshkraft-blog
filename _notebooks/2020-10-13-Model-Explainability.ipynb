{
 "metadata": {
  "language_info": {
   "codemirror_mode": {
    "name": "ipython",
    "version": 3
   },
   "file_extension": ".py",
   "mimetype": "text/x-python",
   "name": "python",
   "nbconvert_exporter": "python",
   "pygments_lexer": "ipython3",
   "version": "3.7.4-final"
  },
  "orig_nbformat": 2,
  "kernelspec": {
   "name": "Python 3.7.4 64-bit ('base': conda)",
   "display_name": "Python 3.7.4 64-bit ('base': conda)",
   "metadata": {
    "interpreter": {
     "hash": "05523d3f5c1c1a255f79b4d09fcb709639c89fba2e7cf11e2dea4cfb80b0be0a"
    }
   }
  }
 },
 "nbformat": 4,
 "nbformat_minor": 2,
 "cells": [
  {
   "source": [
    "# \"Model Explainability Blog Post\"\n",
    "> \"An introduction to ML model explainabiliy.\"\n",
    "\n",
    "- toc: false\n",
    "- branch: master\n",
    "- badges: true\n",
    "- comments: true\n",
    "- categories: [Machine Learning]\n",
    "- image: \n",
    "- hide: false\n",
    "- search_exclude: true"
   ],
   "cell_type": "markdown",
   "metadata": {}
  },
  {
   "source": [
    "In recennt years, advances in computing have allowed machine learning models increase in power and accuracy. As a result, these models have become important components in decision making processes, such as:\n",
    "\n",
    "- parole decisions\n",
    "- what news you will see\n",
    "- which life updates you see on Facebook\n",
    "- credit risk estimation\n",
    "\n",
    "These decision making processes have non-negligible consequences, and the decisions should have a degree of explainability."
   ],
   "cell_type": "markdown",
   "metadata": {}
  },
  {
   "source": [
    "## Overview of Model Explainability\n",
    "\n",
    "- neural networks are dominating.\n",
    "    - humans can make simple decisions. where NNs add value is in complex situations, such as those in 300 dimensional space\n",
    "- this raises a question... how do we understand something that is reflecting patterns too complex for us to comprehend?\n",
    "    - essentially, we have to rely on proxies. Here are a few:\n",
    "    1. What features are most/least important when training the model?\n",
    "    2. What values are most important when making a prediction?\n",
    "    3. Find more."
   ],
   "cell_type": "markdown",
   "metadata": {}
  },
  {
   "source": [
    "## Introduction to Home Credit Dataset."
   ],
   "cell_type": "markdown",
   "metadata": {}
  },
  {
   "source": [
    "## Building a Basic Model"
   ],
   "cell_type": "markdown",
   "metadata": {}
  },
  {
   "source": [
    "## Understanding a Basic Model"
   ],
   "cell_type": "markdown",
   "metadata": {}
  },
  {
   "source": [
    "## Conclusion / More Resources"
   ],
   "cell_type": "markdown",
   "metadata": {}
  },
  {
   "cell_type": "code",
   "execution_count": null,
   "metadata": {},
   "outputs": [],
   "source": []
  }
 ]
}