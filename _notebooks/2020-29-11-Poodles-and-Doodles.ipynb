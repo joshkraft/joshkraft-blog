{
  "nbformat": 4,
  "nbformat_minor": 0,
  "metadata": {
    "language_info": {
      "codemirror_mode": {
        "name": "ipython",
        "version": 3
      },
      "file_extension": ".py",
      "mimetype": "text/x-python",
      "name": "python",
      "nbconvert_exporter": "python",
      "pygments_lexer": "ipython3",
      "version": 3
    },
    "orig_nbformat": 2,
    "colab": {
      "name": "Copy of 2020-29-11-Poodles-and-Doodles.ipynb",
      "provenance": [],
      "include_colab_link": true
    }
  },
  "cells": [
    {
      "cell_type": "markdown",
      "metadata": {
        "id": "view-in-github",
        "colab_type": "text"
      },
      "source": [
        "<a href=\"https://colab.research.google.com/github/joshkraft/joshkraft-blog/blob/master/_notebooks/2020-29-11-Poodles-and-Doodles.ipynb\" target=\"_parent\"><img src=\"https://colab.research.google.com/assets/colab-badge.svg\" alt=\"Open In Colab\"/></a>"
      ]
    },
    {
      "cell_type": "markdown",
      "metadata": {
        "id": "IHdLj0VK3d7v"
      },
      "source": [
        "# \"Poodles and Doodles: An Introduction to Bias in Machine Learning Algorithms\"\n",
        "> \"An applied introduction to the causes of algorithmic bias, as well as a path towards resolving this issue.\"\n",
        "\n",
        "- toc: false\n",
        "- permalink: /bias/\n",
        "- branch: master\n",
        "- badges: true\n",
        "- comments: true\n",
        "- hide: true\n",
        "- search_exclude: true"
      ]
    },
    {
      "cell_type": "markdown",
      "metadata": {
        "id": "ziuN8vqy3jKo"
      },
      "source": [
        "# Introduction"
      ]
    }
  ]
}