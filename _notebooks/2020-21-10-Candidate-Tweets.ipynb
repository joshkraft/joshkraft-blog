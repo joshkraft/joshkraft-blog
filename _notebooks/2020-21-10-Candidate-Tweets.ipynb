{
 "metadata": {
  "language_info": {
   "codemirror_mode": {
    "name": "ipython",
    "version": 3
   },
   "file_extension": ".py",
   "mimetype": "text/x-python",
   "name": "python",
   "nbconvert_exporter": "python",
   "pygments_lexer": "ipython3",
   "version": "3.7.2-final"
  },
  "orig_nbformat": 2,
  "kernelspec": {
   "name": "Python 3.7.2 64-bit",
   "display_name": "Python 3.7.2 64-bit",
   "metadata": {
    "interpreter": {
     "hash": "aee8b7b246df8f9039afb4144a1f6fd8d2ca17a180786b69acc140d282b71a49"
    }
   }
  }
 },
 "nbformat": 4,
 "nbformat_minor": 2,
 "cells": [
  {
   "source": [
    "# \"US Presidential Candidate Tweets\"\n",
    "> \"A visualization of recent tweets from candidates in the 2020 US Presidential Election\"\n",
    "\n",
    "- toc: false\n",
    "- branch: master\n",
    "- badges: true\n",
    "- comments: true\n",
    "- categories: [Data Visualization]\n",
    "- hide: false\n",
    "- search_exclude: true"
   ],
   "cell_type": "markdown",
   "metadata": {}
  },
  {
   "source": [
    "## Imports Modules"
   ],
   "cell_type": "markdown",
   "metadata": {}
  },
  {
   "cell_type": "code",
   "execution_count": 13,
   "metadata": {},
   "outputs": [],
   "source": [
    "#collapse-hide\n",
    "from textblob import TextBlob\n",
    "import altair as alt\n",
    "import pandas as pd\n",
    "\n",
    "# Link: https://joshkraft.github.io/joshkraft-blog/2020/10/21/Candidate-Tweets.html"
   ]
  },
  {
   "source": [
    "## Import Data"
   ],
   "cell_type": "markdown",
   "metadata": {}
  },
  {
   "cell_type": "code",
   "execution_count": 14,
   "metadata": {},
   "outputs": [],
   "source": [
    "def read_tweet_data(username, date):\n",
    "  url = \"https://raw.githubusercontent.com/joshkraft/daily-candidate-tweets/main/data/\" + str(username) + \"/\" + str(date) + \".csv\"\n",
    "  df = pd.read_csv(url)\n",
    "  return df\n",
    "\n",
    "biden_tweets = read_tweet_data(\"JoeBiden\", \"2020-10-20\")\n",
    "trump_tweets = read_tweet_data(\"realDonaldTrump\", \"2020-10-20\")\n",
    "\n",
    "df = biden_tweets.append(trump_tweets)\n",
    "\n",
    "\n",
    "new_biden_tweets = read_tweet_data(\"JoeBiden\", \"2020-10-21\")\n",
    "new_trump_tweets = read_tweet_data(\"realDonaldTrump\", \"2020-10-21\")\n",
    "\n",
    "df = df.append(new_biden_tweets)\n",
    "df = df.append(new_biden_tweets)\n",
    "\n",
    "df['sentiment'] = df['tweet_text'].apply(lambda tweet: TextBlob(tweet).sentiment.polarity)\n",
    "df['subjectivity'] = df['tweet_text'].apply(lambda tweet: TextBlob(tweet).sentiment.subjectivity)"
   ]
  },
  {
   "cell_type": "code",
   "execution_count": 75,
   "metadata": {},
   "outputs": [],
   "source": []
  },
  {
   "cell_type": "code",
   "execution_count": 15,
   "metadata": {},
   "outputs": [
    {
     "output_type": "execute_result",
     "data": {
      "text/html": "\n<div id=\"altair-viz-ae2885d73b0e4c59a6ce06355b875b2a\"></div>\n<script type=\"text/javascript\">\n  (function(spec, embedOpt){\n    let outputDiv = document.currentScript.previousElementSibling;\n    if (outputDiv.id !== \"altair-viz-ae2885d73b0e4c59a6ce06355b875b2a\") {\n      outputDiv = document.getElementById(\"altair-viz-ae2885d73b0e4c59a6ce06355b875b2a\");\n    }\n    const paths = {\n      \"vega\": \"https://cdn.jsdelivr.net/npm//vega@5?noext\",\n      \"vega-lib\": \"https://cdn.jsdelivr.net/npm//vega-lib?noext\",\n      \"vega-lite\": \"https://cdn.jsdelivr.net/npm//vega-lite@4.8.1?noext\",\n      \"vega-embed\": \"https://cdn.jsdelivr.net/npm//vega-embed@6?noext\",\n    };\n\n    function loadScript(lib) {\n      return new Promise(function(resolve, reject) {\n        var s = document.createElement('script');\n        s.src = paths[lib];\n        s.async = true;\n        s.onload = () => resolve(paths[lib]);\n        s.onerror = () => reject(`Error loading script: ${paths[lib]}`);\n        document.getElementsByTagName(\"head\")[0].appendChild(s);\n      });\n    }\n\n    function showError(err) {\n      outputDiv.innerHTML = `<div class=\"error\" style=\"color:red;\">${err}</div>`;\n      throw err;\n    }\n\n    function displayChart(vegaEmbed) {\n      vegaEmbed(outputDiv, spec, embedOpt)\n        .catch(err => showError(`Javascript Error: ${err.message}<br>This usually means there's a typo in your chart specification. See the javascript console for the full traceback.`));\n    }\n\n    if(typeof define === \"function\" && define.amd) {\n      requirejs.config({paths});\n      require([\"vega-embed\"], displayChart, err => showError(`Error loading script: ${err.message}`));\n    } else if (typeof vegaEmbed === \"function\") {\n      displayChart(vegaEmbed);\n    } else {\n      loadScript(\"vega\")\n        .then(() => loadScript(\"vega-lite\"))\n        .then(() => loadScript(\"vega-embed\"))\n        .catch(showError)\n        .then(() => displayChart(vegaEmbed));\n    }\n  })({\"config\": {\"view\": {\"continuousWidth\": 400, \"continuousHeight\": 300}}, \"data\": {\"name\": \"data-38ba6bd28726f9f94330be1085d800fc\"}, \"mark\": \"circle\", \"encoding\": {\"color\": {\"type\": \"nominal\", \"field\": \"username\"}, \"size\": {\"type\": \"quantitative\", \"field\": \"retweets\"}, \"tooltip\": [{\"type\": \"nominal\", \"field\": \"tweet_text\"}], \"x\": {\"type\": \"nominal\", \"field\": \"created_at\"}, \"y\": {\"type\": \"quantitative\", \"field\": \"sentiment\"}}, \"selection\": {\"selector006\": {\"type\": \"interval\", \"bind\": \"scales\", \"encodings\": [\"x\", \"y\"]}}, \"$schema\": \"https://vega.github.io/schema/vega-lite/v4.8.1.json\", \"datasets\": {\"data-38ba6bd28726f9f94330be1085d800fc\": [{\"_0\": 0, \"username\": \"JoeBiden\", \"tweet_text\": \"If I\\u2019m elected president, I won\\u2019t waste a minute getting this virus under control. Here\\u2019s how I\\u2019ll do it: https://t.co/NoPsQ0FDV8\", \"retweets\": 11899, \"location\": \"Wilmington, DE\", \"created_at\": \"2020-10-20 23:50:00\", \"sentiment\": -0.2, \"subjectivity\": 0.0}, {\"_0\": 1, \"username\": \"JoeBiden\", \"tweet_text\": \"Whether it\\u2019s your first time voting or you\\u2019re an old pro, voting is better with friends and family. So message a few folks and make your plan to vote together today.\\n\\nhttps://t.co/uoiVh9ZqzI https://t.co/clVe9wpOMi\", \"retweets\": 3301, \"location\": \"Wilmington, DE\", \"created_at\": \"2020-10-20 23:12:00\", \"sentiment\": 0.16249999999999998, \"subjectivity\": 0.2833333333333333}, {\"_0\": 2, \"username\": \"JoeBiden\", \"tweet_text\": \"Listening to scientists is not a bad thing.\\n\\nI can\\u2019t believe that has to be said.\", \"retweets\": 58712, \"location\": \"Wilmington, DE\", \"created_at\": \"2020-10-20 22:05:00\", \"sentiment\": 0.3499999999999999, \"subjectivity\": 0.6666666666666666}, {\"_0\": 3, \"username\": \"JoeBiden\", \"tweet_text\": \"America is a nation that values immigrants. It is and has always been one of our greatest strengths.\\n\\nWe need a president who understands that. https://t.co/fIuNJUrfY3\", \"retweets\": 5014, \"location\": \"Wilmington, DE\", \"created_at\": \"2020-10-20 20:46:00\", \"sentiment\": 1.0, \"subjectivity\": 1.0}, {\"_0\": 4, \"username\": \"JoeBiden\", \"tweet_text\": \"A few weeks ago, I spoke to Mr. Rogers\\u2019 wife Joanne when I was in her neighborhood in Pittsburgh. It was a great conversation.\\n\\nFriendship, empathy, kindness, and compassion \\u2014 I think we could all learn a thing or two from her and her husband\\u2019s example. https://t.co/lRX9jt7FXS\", \"retweets\": 9628, \"location\": \"Wilmington, DE\", \"created_at\": \"2020-10-20 19:40:00\", \"sentiment\": 0.30000000000000004, \"subjectivity\": 0.425}, {\"_0\": 5, \"username\": \"JoeBiden\", \"tweet_text\": \"Tonight, the Avengers are assembling with real-life superhero @KamalaHarris for a grassroots fundraiser.\\n\\nTime is running out to join them. Chip in to reserve your spot: https://t.co/kLqUKmDCjK https://t.co/3wL1zcFFd6\", \"retweets\": 3481, \"location\": \"Wilmington, DE\", \"created_at\": \"2020-10-20 18:59:00\", \"sentiment\": 0.0, \"subjectivity\": 0.0}, {\"_0\": 6, \"username\": \"JoeBiden\", \"tweet_text\": \"Two weeks from today, we\\u2019re going to beat President Trump.\", \"retweets\": 57919, \"location\": \"Wilmington, DE\", \"created_at\": \"2020-10-20 17:45:00\", \"sentiment\": 0.0, \"subjectivity\": 0.0}, {\"_0\": 7, \"username\": \"JoeBiden\", \"tweet_text\": \"Mr. President, the people are tired. They\\u2019re tired of your lies about this virus. They\\u2019re tired of watching more Americans die, and more people lose their jobs because you refuse to take this pandemic seriously. https://t.co/pdxdo3FadB\", \"retweets\": 5272, \"location\": \"Wilmington, DE\", \"created_at\": \"2020-10-20 17:04:17\", \"sentiment\": -0.0888888888888889, \"subjectivity\": 0.6277777777777777}, {\"_0\": 8, \"username\": \"JoeBiden\", \"tweet_text\": \"Waving a white flag and saying, \\u201cit is what it is\\u201d is unacceptable when thousands are dying each week, when businesses are closing, and when schools remain shuttered. The American people have never backed down from a challenge, but they need a leader to show the way.\", \"retweets\": 5758, \"location\": \"Wilmington, DE\", \"created_at\": \"2020-10-20 17:04:16\", \"sentiment\": -0.051851851851851864, \"subjectivity\": 0.09629629629629631}, {\"_0\": 9, \"username\": \"JoeBiden\", \"tweet_text\": \"Yesterday, @realDonaldTrump decided to attack Dr. Fauci once again, calling him a \\u2018disaster\\u2019 and public health experts \\u2018idiots.\\u2019 Meanwhile, he still has no plan to beat this virus.\", \"retweets\": 18576, \"location\": \"Wilmington, DE\", \"created_at\": \"2020-10-20 17:04:16\", \"sentiment\": -0.4, \"subjectivity\": 0.43333333333333335}, {\"_0\": 10, \"username\": \"JoeBiden\", \"tweet_text\": \"Happy Birthday, @KamalaHarris. Next year, let\\u2019s celebrate with some ice cream at the White House. https://t.co/SWhS32AaIE\", \"retweets\": 24499, \"location\": \"Wilmington, DE\", \"created_at\": \"2020-10-20 16:10:00\", \"sentiment\": 0.26666666666666666, \"subjectivity\": 0.3333333333333333}, {\"_0\": 11, \"username\": \"JoeBiden\", \"tweet_text\": \"If you live in Hawaii, Utah, or Wisconsin, in-person early voting is now underway.\\n\\nMillions of Americans across the country have already voted. Join them and cast your ballot today. https://t.co/eoxT07uII9\", \"retweets\": 3004, \"location\": \"Wilmington, DE\", \"created_at\": \"2020-10-20 15:58:00\", \"sentiment\": 0.11818181818181818, \"subjectivity\": 0.4}, {\"_0\": 12, \"username\": \"JoeBiden\", \"tweet_text\": \"Maryland and New Mexico \\u2014 if you plan to vote by mail, today is the last day to request your absentee ballot.\\n\\nHead to https://t.co/eoxT07d7QB before it's too late.\", \"retweets\": 3302, \"location\": \"Wilmington, DE\", \"created_at\": \"2020-10-20 15:45:00\", \"sentiment\": -0.05454545454545454, \"subjectivity\": 0.3737373737373737}, {\"_0\": 13, \"username\": \"JoeBiden\", \"tweet_text\": \"The simple, sad truth is that this president is not in office to serve the American people. He\\u2019s in it to serve himself.\\n\\n@KamalaHarris and I are in this for you and your families. https://t.co/mV9ONHhn1b\", \"retweets\": 11965, \"location\": \"Wilmington, DE\", \"created_at\": \"2020-10-20 14:36:00\", \"sentiment\": -0.16666666666666666, \"subjectivity\": 0.4523809523809524}, {\"_0\": 14, \"username\": \"JoeBiden\", \"tweet_text\": \"Pennsylvania \\u2014 there are just a few hours left to register to vote online. Don\\u2019t miss your chance to make your voice heard in this election. Head to https://t.co/U1KkwCfDCV and register before 11:59 PM.\", \"retweets\": 4489, \"location\": \"Wilmington, DE\", \"created_at\": \"2020-10-20 01:20:00\", \"sentiment\": -0.1, \"subjectivity\": 0.05}, {\"_0\": 15, \"username\": \"JoeBiden\", \"tweet_text\": \"For once, Donald Trump is correct: I will listen to scientists. https://t.co/jmxoDn1Ezp\", \"retweets\": 33135, \"location\": \"Wilmington, DE\", \"created_at\": \"2020-10-20 01:05:00\", \"sentiment\": 0.0, \"subjectivity\": 0.0}, {\"_0\": 16, \"username\": \"JoeBiden\", \"tweet_text\": \"I will be a president who pushes towards the future. Not one who clings to the past.\", \"retweets\": 33060, \"location\": \"Wilmington, DE\", \"created_at\": \"2020-10-20 00:44:00\", \"sentiment\": -0.125, \"subjectivity\": 0.1875}, {\"_0\": 17, \"username\": \"JoeBiden\", \"tweet_text\": \".@realDonaldTrump \\u2014 if you had listened to the scientists, it wouldn't be this bad. https://t.co/0eNuV4pAMK\", \"retweets\": 18079, \"location\": \"Wilmington, DE\", \"created_at\": \"2020-10-20 00:07:00\", \"sentiment\": -0.6999999999999998, \"subjectivity\": 0.6666666666666666}, {\"_0\": 0, \"username\": \"realDonaldTrump\", \"tweet_text\": \"...Everyone should compare this terrible Electoral Intrusion with the recent interviews of Sleepy Joe Biden!\", \"retweets\": 27593, \"location\": \"Washington, DC\", \"created_at\": \"2020-10-20 22:09:42\", \"sentiment\": -0.5, \"subjectivity\": 0.625}, {\"_0\": 1, \"username\": \"realDonaldTrump\", \"tweet_text\": \"I am pleased to inform you that, for the sake of accuracy in reporting, I am considering posting my interview with Lesley Stahl of 60 Minutes, PRIOR TO AIRTIME! This will be done so that everybody can get a glimpse of what a FAKE and BIASED interview is all about...\", \"retweets\": 69958, \"location\": \"Washington, DC\", \"created_at\": \"2020-10-20 22:09:42\", \"sentiment\": 0.0, \"subjectivity\": 0.6666666666666666}, {\"_0\": 2, \"username\": \"realDonaldTrump\", \"tweet_text\": \"Lesley Stahl of 60 Minutes not wearing a mask in the White House after her interview with me. Much more to come. https://t.co/0plZG6a4fH\", \"retweets\": 53883, \"location\": \"Washington, DC\", \"created_at\": \"2020-10-20 20:06:09\", \"sentiment\": 0.25, \"subjectivity\": 0.25}, {\"_0\": 3, \"username\": \"realDonaldTrump\", \"tweet_text\": \"WISCONSIN! Early voting is now underway\\u2014let\\u2019s #MAGA! https://t.co/gsFSghkmdM\", \"retweets\": 16456, \"location\": \"Washington, DC\", \"created_at\": \"2020-10-20 18:46:22\", \"sentiment\": 0.125, \"subjectivity\": 0.3}, {\"_0\": 4, \"username\": \"realDonaldTrump\", \"tweet_text\": \"https://t.co/gsFSghkmdM\", \"retweets\": 14869, \"location\": \"Washington, DC\", \"created_at\": \"2020-10-20 17:50:29\", \"sentiment\": 0.0, \"subjectivity\": 0.0}, {\"_0\": 5, \"username\": \"realDonaldTrump\", \"tweet_text\": \"\\u201cStock Markets will hit new highs if President Trump wins.  Tremendous growth like never before. If Biden wins, it\\u2019s strangulation. Not good.\\u201d @SteveKalayjian @Varneyco\", \"retweets\": 27341, \"location\": \"Washington, DC\", \"created_at\": \"2020-10-20 14:02:31\", \"sentiment\": 0.14393939393939392, \"subjectivity\": 0.4909090909090909}, {\"_0\": 6, \"username\": \"realDonaldTrump\", \"tweet_text\": \"To the great people of New York, California, and Illinois, your states are way too highly taxed, big crime, people fleeing, and just about every other problem you can have. VOTE TRUMP, I will turn them around for you, FAST!\", \"retweets\": 62867, \"location\": \"Washington, DC\", \"created_at\": \"2020-10-20 13:48:27\", \"sentiment\": 0.20356060606060608, \"subjectivity\": 0.46992424242424247}, {\"_0\": 7, \"username\": \"realDonaldTrump\", \"tweet_text\": \"Will be interviewed on @foxandfriends at 8:00 A.M. Enjoy!\", \"retweets\": 15680, \"location\": \"Washington, DC\", \"created_at\": \"2020-10-20 11:55:39\", \"sentiment\": 0.5, \"subjectivity\": 0.5}, {\"_0\": 0, \"username\": \"JoeBiden\", \"tweet_text\": \"Vote early.\\n\\nVote by mail.\\n\\nVote on Election Day.\\n\\nJust make sure you vote. https://t.co/eoxT07d7QB\", \"retweets\": 5187, \"location\": \"Wilmington, DE\", \"created_at\": \"2020-10-21 23:50:00\", \"sentiment\": 0.3, \"subjectivity\": 0.5944444444444444}, {\"_0\": 1, \"username\": \"JoeBiden\", \"tweet_text\": \"President Trump didn't take the necessary precautions to protect himself and others.\\n\\nHow can we trust him to protect the country?\", \"retweets\": 18703, \"location\": \"Wilmington, DE\", \"created_at\": \"2020-10-21 23:15:00\", \"sentiment\": 0.0, \"subjectivity\": 1.0}, {\"_0\": 2, \"username\": \"JoeBiden\", \"tweet_text\": \"I couldn\\u2019t be more excited to have my friend @BarackObama hitting the campaign trail. Tune in for his first drive-in rally live from Philadelphia. https://t.co/NJyChqivOt\", \"retweets\": 5011, \"location\": \"Wilmington, DE\", \"created_at\": \"2020-10-21 21:47:08\", \"sentiment\": 0.31534090909090906, \"subjectivity\": 0.5208333333333333}, {\"_0\": 3, \"username\": \"JoeBiden\", \"tweet_text\": \"It\\u2019s time we replace Secretary Betsy DeVos with an actual public school educator \\u2014 one who values our public schools and is capable of guiding all of our schools through this pandemic.\\n\\nVote: https://t.co/eoxT07d7QB https://t.co/CWf3H5BqOH\", \"retweets\": 18311, \"location\": \"Wilmington, DE\", \"created_at\": \"2020-10-21 21:05:00\", \"sentiment\": 0.05, \"subjectivity\": 0.15833333333333333}, {\"_0\": 4, \"username\": \"JoeBiden\", \"tweet_text\": \"Tune in as @BarackObama sits down with community leaders in Philadelphia to talk about what\\u2019s at stake in this election. https://t.co/Xzmy0Cs3sw\", \"retweets\": 4569, \"location\": \"Wilmington, DE\", \"created_at\": \"2020-10-21 20:19:33\", \"sentiment\": -0.15555555555555559, \"subjectivity\": 0.2888888888888889}, {\"_0\": 5, \"username\": \"JoeBiden\", \"tweet_text\": \"Hay muchos asuntos que son complicados, pero algunas cosas son visiblemente claras. Las familias deben permanecer unidas. https://t.co/rLC69J5rHI\", \"retweets\": 1391, \"location\": \"Wilmington, DE\", \"created_at\": \"2020-10-21 20:05:00\", \"sentiment\": 0.0, \"subjectivity\": 0.0}, {\"_0\": 6, \"username\": \"JoeBiden\", \"tweet_text\": \"There are many issues that are complicated, but some things are just black and white. Families belong together. https://t.co/TgIkhAMAtZ\", \"retweets\": 3210, \"location\": \"Wilmington, DE\", \"created_at\": \"2020-10-21 19:50:00\", \"sentiment\": -0.041666666666666664, \"subjectivity\": 0.48333333333333334}, {\"_0\": 7, \"username\": \"JoeBiden\", \"tweet_text\": \"Cada d\\u00eda parece que descubrimos nuevos horrores cometidos por el presidente Trump y su administraci\\u00f3n. https://t.co/eefL58X7R8\", \"retweets\": 5055, \"location\": \"Wilmington, DE\", \"created_at\": \"2020-10-21 19:30:24\", \"sentiment\": 0.0, \"subjectivity\": 0.0}, {\"_0\": 8, \"username\": \"JoeBiden\", \"tweet_text\": \"Every day it seems we uncover new horrors perpetrated by President Trump and his administration. https://t.co/eefL58X7R8\", \"retweets\": 16480, \"location\": \"Wilmington, DE\", \"created_at\": \"2020-10-21 18:36:13\", \"sentiment\": 0.13636363636363635, \"subjectivity\": 0.45454545454545453}, {\"_0\": 9, \"username\": \"JoeBiden\", \"tweet_text\": \"The Build Back Better Express Tour was about more than my love for trains \\u2014 it was about meeting folks along the way and discussing how we can make their lives better.\\n\\nThey are the backbone of America \\u2014 and I\\u2019ll fight for them every day in the White House. https://t.co/HhJHo35DvD\", \"retweets\": 4712, \"location\": \"Wilmington, DE\", \"created_at\": \"2020-10-21 17:02:00\", \"sentiment\": 0.3333333333333333, \"subjectivity\": 0.35000000000000003}, {\"_0\": 10, \"username\": \"JoeBiden\", \"tweet_text\": \"Justice is on the ballot.\\n\\nhttps://t.co/eoxT07uII9 https://t.co/0dg9Cg1f2i\", \"retweets\": 5090, \"location\": \"Wilmington, DE\", \"created_at\": \"2020-10-21 15:30:00\", \"sentiment\": 0.0, \"subjectivity\": 0.0}, {\"_0\": 11, \"username\": \"JoeBiden\", \"tweet_text\": \"West Virginia \\u2014 in-person early voting is now open across the state. \\n\\nMake a plan to vote at https://t.co/3lR0146LYv.\", \"retweets\": 3299, \"location\": \"Wilmington, DE\", \"created_at\": \"2020-10-21 14:20:00\", \"sentiment\": 0.05, \"subjectivity\": 0.4}, {\"_0\": 12, \"username\": \"JoeBiden\", \"tweet_text\": \"Missouri \\u2014 today is the last day to request a mail-in ballot.\\n\\nHead to https://t.co/lDI7PzhWha and request yours today.\", \"retweets\": 3351, \"location\": \"Wilmington, DE\", \"created_at\": \"2020-10-21 14:02:00\", \"sentiment\": 0.0, \"subjectivity\": 0.06666666666666667}, {\"_0\": 13, \"username\": \"JoeBiden\", \"tweet_text\": \"It\\u2019s time we see each other as fellow Americans who live in \\u2014 and love \\u2014 the United States of America. https://t.co/xawem14X61\", \"retweets\": 26548, \"location\": \"Wilmington, DE\", \"created_at\": \"2020-10-21 03:20:00\", \"sentiment\": 0.17045454545454544, \"subjectivity\": 0.4916666666666667}, {\"_0\": 14, \"username\": \"JoeBiden\", \"tweet_text\": \"I\\u2019ve always believed we\\u2019re at our best when we\\u2019re one America. If we come together, there\\u2019s not a single thing we cannot overcome.\", \"retweets\": 16008, \"location\": \"Wilmington, DE\", \"created_at\": \"2020-10-21 00:45:00\", \"sentiment\": 0.5178571428571429, \"subjectivity\": 0.2571428571428571}, {\"_0\": 0, \"username\": \"JoeBiden\", \"tweet_text\": \"Vote early.\\n\\nVote by mail.\\n\\nVote on Election Day.\\n\\nJust make sure you vote. https://t.co/eoxT07d7QB\", \"retweets\": 5187, \"location\": \"Wilmington, DE\", \"created_at\": \"2020-10-21 23:50:00\", \"sentiment\": 0.3, \"subjectivity\": 0.5944444444444444}, {\"_0\": 1, \"username\": \"JoeBiden\", \"tweet_text\": \"President Trump didn't take the necessary precautions to protect himself and others.\\n\\nHow can we trust him to protect the country?\", \"retweets\": 18703, \"location\": \"Wilmington, DE\", \"created_at\": \"2020-10-21 23:15:00\", \"sentiment\": 0.0, \"subjectivity\": 1.0}, {\"_0\": 2, \"username\": \"JoeBiden\", \"tweet_text\": \"I couldn\\u2019t be more excited to have my friend @BarackObama hitting the campaign trail. Tune in for his first drive-in rally live from Philadelphia. https://t.co/NJyChqivOt\", \"retweets\": 5011, \"location\": \"Wilmington, DE\", \"created_at\": \"2020-10-21 21:47:08\", \"sentiment\": 0.31534090909090906, \"subjectivity\": 0.5208333333333333}, {\"_0\": 3, \"username\": \"JoeBiden\", \"tweet_text\": \"It\\u2019s time we replace Secretary Betsy DeVos with an actual public school educator \\u2014 one who values our public schools and is capable of guiding all of our schools through this pandemic.\\n\\nVote: https://t.co/eoxT07d7QB https://t.co/CWf3H5BqOH\", \"retweets\": 18311, \"location\": \"Wilmington, DE\", \"created_at\": \"2020-10-21 21:05:00\", \"sentiment\": 0.05, \"subjectivity\": 0.15833333333333333}, {\"_0\": 4, \"username\": \"JoeBiden\", \"tweet_text\": \"Tune in as @BarackObama sits down with community leaders in Philadelphia to talk about what\\u2019s at stake in this election. https://t.co/Xzmy0Cs3sw\", \"retweets\": 4569, \"location\": \"Wilmington, DE\", \"created_at\": \"2020-10-21 20:19:33\", \"sentiment\": -0.15555555555555559, \"subjectivity\": 0.2888888888888889}, {\"_0\": 5, \"username\": \"JoeBiden\", \"tweet_text\": \"Hay muchos asuntos que son complicados, pero algunas cosas son visiblemente claras. Las familias deben permanecer unidas. https://t.co/rLC69J5rHI\", \"retweets\": 1391, \"location\": \"Wilmington, DE\", \"created_at\": \"2020-10-21 20:05:00\", \"sentiment\": 0.0, \"subjectivity\": 0.0}, {\"_0\": 6, \"username\": \"JoeBiden\", \"tweet_text\": \"There are many issues that are complicated, but some things are just black and white. Families belong together. https://t.co/TgIkhAMAtZ\", \"retweets\": 3210, \"location\": \"Wilmington, DE\", \"created_at\": \"2020-10-21 19:50:00\", \"sentiment\": -0.041666666666666664, \"subjectivity\": 0.48333333333333334}, {\"_0\": 7, \"username\": \"JoeBiden\", \"tweet_text\": \"Cada d\\u00eda parece que descubrimos nuevos horrores cometidos por el presidente Trump y su administraci\\u00f3n. https://t.co/eefL58X7R8\", \"retweets\": 5055, \"location\": \"Wilmington, DE\", \"created_at\": \"2020-10-21 19:30:24\", \"sentiment\": 0.0, \"subjectivity\": 0.0}, {\"_0\": 8, \"username\": \"JoeBiden\", \"tweet_text\": \"Every day it seems we uncover new horrors perpetrated by President Trump and his administration. https://t.co/eefL58X7R8\", \"retweets\": 16480, \"location\": \"Wilmington, DE\", \"created_at\": \"2020-10-21 18:36:13\", \"sentiment\": 0.13636363636363635, \"subjectivity\": 0.45454545454545453}, {\"_0\": 9, \"username\": \"JoeBiden\", \"tweet_text\": \"The Build Back Better Express Tour was about more than my love for trains \\u2014 it was about meeting folks along the way and discussing how we can make their lives better.\\n\\nThey are the backbone of America \\u2014 and I\\u2019ll fight for them every day in the White House. https://t.co/HhJHo35DvD\", \"retweets\": 4712, \"location\": \"Wilmington, DE\", \"created_at\": \"2020-10-21 17:02:00\", \"sentiment\": 0.3333333333333333, \"subjectivity\": 0.35000000000000003}, {\"_0\": 10, \"username\": \"JoeBiden\", \"tweet_text\": \"Justice is on the ballot.\\n\\nhttps://t.co/eoxT07uII9 https://t.co/0dg9Cg1f2i\", \"retweets\": 5090, \"location\": \"Wilmington, DE\", \"created_at\": \"2020-10-21 15:30:00\", \"sentiment\": 0.0, \"subjectivity\": 0.0}, {\"_0\": 11, \"username\": \"JoeBiden\", \"tweet_text\": \"West Virginia \\u2014 in-person early voting is now open across the state. \\n\\nMake a plan to vote at https://t.co/3lR0146LYv.\", \"retweets\": 3299, \"location\": \"Wilmington, DE\", \"created_at\": \"2020-10-21 14:20:00\", \"sentiment\": 0.05, \"subjectivity\": 0.4}, {\"_0\": 12, \"username\": \"JoeBiden\", \"tweet_text\": \"Missouri \\u2014 today is the last day to request a mail-in ballot.\\n\\nHead to https://t.co/lDI7PzhWha and request yours today.\", \"retweets\": 3351, \"location\": \"Wilmington, DE\", \"created_at\": \"2020-10-21 14:02:00\", \"sentiment\": 0.0, \"subjectivity\": 0.06666666666666667}, {\"_0\": 13, \"username\": \"JoeBiden\", \"tweet_text\": \"It\\u2019s time we see each other as fellow Americans who live in \\u2014 and love \\u2014 the United States of America. https://t.co/xawem14X61\", \"retweets\": 26548, \"location\": \"Wilmington, DE\", \"created_at\": \"2020-10-21 03:20:00\", \"sentiment\": 0.17045454545454544, \"subjectivity\": 0.4916666666666667}, {\"_0\": 14, \"username\": \"JoeBiden\", \"tweet_text\": \"I\\u2019ve always believed we\\u2019re at our best when we\\u2019re one America. If we come together, there\\u2019s not a single thing we cannot overcome.\", \"retweets\": 16008, \"location\": \"Wilmington, DE\", \"created_at\": \"2020-10-21 00:45:00\", \"sentiment\": 0.5178571428571429, \"subjectivity\": 0.2571428571428571}]}}, {\"mode\": \"vega-lite\"});\n</script>",
      "text/plain": [
       "alt.Chart(...)"
      ]
     },
     "metadata": {},
     "execution_count": 15
    }
   ],
   "source": [
    "chart = alt.Chart(df).mark_circle().encode(\n",
    "    x='created_at',\n",
    "    y='sentiment',\n",
    "    size='retweets',\n",
    "    color='username',\n",
    "    tooltip=['tweet_text']\n",
    "    ).interactive()\n",
    "\n",
    "chart.properties(\n",
    "    width=800,\n",
    "    height=800\n",
    ")\n",
    "\n",
    "chart"
   ]
  },
  {
   "cell_type": "code",
   "execution_count": null,
   "metadata": {},
   "outputs": [],
   "source": []
  }
 ]
}