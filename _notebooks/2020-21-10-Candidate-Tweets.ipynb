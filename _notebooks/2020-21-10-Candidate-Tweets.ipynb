{
 "cells": [
  {
   "cell_type": "markdown",
   "metadata": {
    "tags": [
     "papermill-error-cell-tag"
    ]
   },
   "source": [
    "<span style=\"color:red; font-family:Helvetica Neue, Helvetica, Arial, sans-serif; font-size:2em;\">An Exception was encountered at '<a href=\"#papermill-error-cell\">In [3]</a>'.</span>"
   ]
  },
  {
   "cell_type": "markdown",
   "metadata": {
    "papermill": {
     "duration": 0.011473,
     "end_time": "2020-10-31T17:38:58.115642",
     "exception": false,
     "start_time": "2020-10-31T17:38:58.104169",
     "status": "completed"
    },
    "tags": []
   },
   "source": [
    "# \"US Presidential Candidate Tweets\"\n",
    "> \"A visualization of recent tweets from candidates in the 2020 US Presidential Election.\"\n",
    "\n",
    "- toc: false\n",
    "- branch: master\n",
    "- badges: true\n",
    "- comments: true\n",
    "- categories: [Data Visualization]\n",
    "- hide: false\n",
    "- search_exclude: false\n",
    "- image: images/blog_posts/candidate_tweets/candidate_tweets_cover.png"
   ]
  },
  {
   "cell_type": "code",
   "execution_count": 1,
   "metadata": {
    "execution": {
     "iopub.execute_input": "2020-10-31T17:38:58.140087Z",
     "iopub.status.busy": "2020-10-31T17:38:58.139492Z",
     "iopub.status.idle": "2020-10-31T17:38:59.549772Z",
     "shell.execute_reply": "2020-10-31T17:38:59.550239Z"
    },
    "papermill": {
     "duration": 1.425125,
     "end_time": "2020-10-31T17:38:59.550414",
     "exception": false,
     "start_time": "2020-10-31T17:38:58.125289",
     "status": "completed"
    },
    "tags": []
   },
   "outputs": [
    {
     "name": "stderr",
     "output_type": "stream",
     "text": [
      "[nltk_data] Downloading package stopwords to /home/runner/nltk_data...\n",
      "[nltk_data]   Unzipping corpora/stopwords.zip.\n"
     ]
    },
    {
     "data": {
      "text/plain": [
       "True"
      ]
     },
     "execution_count": 1,
     "metadata": {},
     "output_type": "execute_result"
    }
   ],
   "source": [
    "#hide\n",
    "from textblob import TextBlob\n",
    "import altair as alt\n",
    "import pandas as pd\n",
    "import collections\n",
    "import itertools\n",
    "import datetime\n",
    "import nltk\n",
    "import re\n",
    "nltk.download('stopwords')"
   ]
  },
  {
   "cell_type": "code",
   "execution_count": 2,
   "metadata": {
    "execution": {
     "iopub.execute_input": "2020-10-31T17:38:59.579223Z",
     "iopub.status.busy": "2020-10-31T17:38:59.573342Z",
     "iopub.status.idle": "2020-10-31T17:38:59.580993Z",
     "shell.execute_reply": "2020-10-31T17:38:59.581436Z"
    },
    "papermill": {
     "duration": 0.023122,
     "end_time": "2020-10-31T17:38:59.581578",
     "exception": false,
     "start_time": "2020-10-31T17:38:59.558456",
     "status": "completed"
    },
    "tags": []
   },
   "outputs": [],
   "source": [
    "#hide\n",
    "def generate_date_list(num_days):\n",
    "    base = datetime.date.today()\n",
    "    date_list = [(base - datetime.timedelta(days=x)).strftime('%Y-%m-%d') for x in range(num_days)]\n",
    "    return date_list\n",
    "\n",
    "\n",
    "def add_columns_to_df(df):  \n",
    "    df['created_at'] = pd.to_datetime(df['created_at'])\n",
    "    df['username_label'] = '@' + df['username']\n",
    "    df['created_at_est'] = df['created_at'].dt.tz_localize('UTC').dt.tz_convert('US/Eastern')\n",
    "    df['sentiment'] = df['tweet_text'].apply(lambda tweet: TextBlob(tweet).sentiment.polarity)\n",
    "    df['subjectivity'] = df['tweet_text'].apply(lambda tweet: TextBlob(tweet).sentiment.subjectivity)\n",
    "    df = df.assign(color=['steelblue' if user == 'JoeBiden' else 'red' for user in df['username']])\n",
    "    df['created_day'] = df['created_at_est'].dt.strftime('%m-%d')\n",
    "    return df\n",
    "\n",
    "\n",
    "def generate_df(usernames, number_of_days):\n",
    "    url = \"https://raw.githubusercontent.com/joshkraft/daily-candidate-tweets/main/data/\"\n",
    "    usernames = [\"realDonaldTrump\", \"JoeBiden\"]\n",
    "    dates = generate_date_list(number_of_days)\n",
    "    df = pd.DataFrame()\n",
    "\n",
    "    for username in usernames:\n",
    "        for date in dates:\n",
    "            file_location = url + username + \"/\" + str(date) + \".csv\"\n",
    "            try:\n",
    "                data = pd.read_csv(file_location)\n",
    "                df = df.append(data)\n",
    "            except:\n",
    "                pass\n",
    "\n",
    "    return df\n",
    "\n",
    "\n",
    "def extract_n_most_frequent_words(tweets, num_words):\n",
    "    stop_words = set(stopwords.words('english'))\n",
    "    words_list = []\n",
    "\n",
    "    for column, tweet in tweets.iterrows():\n",
    "        tweet_text = \" \".join(\n",
    "            re.sub(\"([^0-9A-Za-z \\t])|(\\w+:\\/\\/\\S+)\", \n",
    "            \"\", \n",
    "            tweet['tweet_text']).split())\n",
    "        split_text = tweet_text.lower().split()\n",
    "        words_list.append(split_text)\n",
    "\n",
    "    flattened_list = list(itertools.chain(*words_list))\n",
    "    words_list = [word for word in flattened_list if not word in stop_words]\n",
    "\n",
    "    counts = collections.Counter(words_list).most_common(num_words)\n",
    "    return pd.DataFrame(counts, columns=['word','times_used'])"
   ]
  },
  {
   "cell_type": "markdown",
   "metadata": {
    "tags": [
     "papermill-error-cell-tag"
    ]
   },
   "source": [
    "<span id=\"papermill-error-cell\" style=\"color:red; font-family:Helvetica Neue, Helvetica, Arial, sans-serif; font-size:2em;\">Execution using papermill encountered an exception here and stopped:</span>"
   ]
  },
  {
   "cell_type": "code",
   "execution_count": 3,
   "metadata": {
    "execution": {
     "iopub.execute_input": "2020-10-31T17:38:59.601874Z",
     "iopub.status.busy": "2020-10-31T17:38:59.601199Z",
     "iopub.status.idle": "2020-10-31T17:39:01.963073Z",
     "shell.execute_reply": "2020-10-31T17:39:01.961311Z"
    },
    "papermill": {
     "duration": 2.373834,
     "end_time": "2020-10-31T17:39:01.963273",
     "exception": true,
     "start_time": "2020-10-31T17:38:59.589439",
     "status": "failed"
    },
    "tags": []
   },
   "outputs": [
    {
     "ename": "NameError",
     "evalue": "name 'stopwords' is not defined",
     "output_type": "error",
     "traceback": [
      "\u001b[0;31m---------------------------------------------------------------------------\u001b[0m",
      "\u001b[0;31mNameError\u001b[0m                                 Traceback (most recent call last)",
      "\u001b[0;32m<ipython-input-3-b48272e6e71f>\u001b[0m in \u001b[0;36m<module>\u001b[0;34m\u001b[0m\n\u001b[1;32m      3\u001b[0m \u001b[0mdf\u001b[0m \u001b[0;34m=\u001b[0m \u001b[0madd_columns_to_df\u001b[0m\u001b[0;34m(\u001b[0m\u001b[0mdf\u001b[0m\u001b[0;34m)\u001b[0m\u001b[0;34m\u001b[0m\u001b[0;34m\u001b[0m\u001b[0m\n\u001b[1;32m      4\u001b[0m \u001b[0;34m\u001b[0m\u001b[0m\n\u001b[0;32m----> 5\u001b[0;31m \u001b[0mtrump_words\u001b[0m \u001b[0;34m=\u001b[0m \u001b[0mextract_n_most_frequent_words\u001b[0m\u001b[0;34m(\u001b[0m\u001b[0mdf\u001b[0m\u001b[0;34m[\u001b[0m\u001b[0mdf\u001b[0m\u001b[0;34m.\u001b[0m\u001b[0musername\u001b[0m\u001b[0;34m==\u001b[0m\u001b[0;34m'realDonaldTrump'\u001b[0m\u001b[0;34m]\u001b[0m\u001b[0;34m,\u001b[0m \u001b[0;36m12\u001b[0m\u001b[0;34m)\u001b[0m\u001b[0;34m\u001b[0m\u001b[0;34m\u001b[0m\u001b[0m\n\u001b[0m\u001b[1;32m      6\u001b[0m \u001b[0mbiden_words\u001b[0m \u001b[0;34m=\u001b[0m \u001b[0mextract_n_most_frequent_words\u001b[0m\u001b[0;34m(\u001b[0m\u001b[0mdf\u001b[0m\u001b[0;34m[\u001b[0m\u001b[0mdf\u001b[0m\u001b[0;34m.\u001b[0m\u001b[0musername\u001b[0m\u001b[0;34m==\u001b[0m\u001b[0;34m'JoeBiden'\u001b[0m\u001b[0;34m]\u001b[0m\u001b[0;34m,\u001b[0m \u001b[0;36m12\u001b[0m\u001b[0;34m)\u001b[0m\u001b[0;34m\u001b[0m\u001b[0;34m\u001b[0m\u001b[0m\n",
      "\u001b[0;32m<ipython-input-2-a3dd3b6cbb50>\u001b[0m in \u001b[0;36mextract_n_most_frequent_words\u001b[0;34m(tweets, num_words)\u001b[0m\n\u001b[1;32m     36\u001b[0m \u001b[0;34m\u001b[0m\u001b[0m\n\u001b[1;32m     37\u001b[0m \u001b[0;32mdef\u001b[0m \u001b[0mextract_n_most_frequent_words\u001b[0m\u001b[0;34m(\u001b[0m\u001b[0mtweets\u001b[0m\u001b[0;34m,\u001b[0m \u001b[0mnum_words\u001b[0m\u001b[0;34m)\u001b[0m\u001b[0;34m:\u001b[0m\u001b[0;34m\u001b[0m\u001b[0;34m\u001b[0m\u001b[0m\n\u001b[0;32m---> 38\u001b[0;31m     \u001b[0mstop_words\u001b[0m \u001b[0;34m=\u001b[0m \u001b[0mset\u001b[0m\u001b[0;34m(\u001b[0m\u001b[0mstopwords\u001b[0m\u001b[0;34m.\u001b[0m\u001b[0mwords\u001b[0m\u001b[0;34m(\u001b[0m\u001b[0;34m'english'\u001b[0m\u001b[0;34m)\u001b[0m\u001b[0;34m)\u001b[0m\u001b[0;34m\u001b[0m\u001b[0;34m\u001b[0m\u001b[0m\n\u001b[0m\u001b[1;32m     39\u001b[0m     \u001b[0mwords_list\u001b[0m \u001b[0;34m=\u001b[0m \u001b[0;34m[\u001b[0m\u001b[0;34m]\u001b[0m\u001b[0;34m\u001b[0m\u001b[0;34m\u001b[0m\u001b[0m\n\u001b[1;32m     40\u001b[0m \u001b[0;34m\u001b[0m\u001b[0m\n",
      "\u001b[0;31mNameError\u001b[0m: name 'stopwords' is not defined"
     ]
    }
   ],
   "source": [
    "#hide\n",
    "df = generate_df([\"realDonaldTrump\", \"JoeBiden\"], 7)\n",
    "df = add_columns_to_df(df)\n",
    "\n",
    "trump_words = extract_n_most_frequent_words(df[df.username=='realDonaldTrump'], 12)\n",
    "biden_words = extract_n_most_frequent_words(df[df.username=='JoeBiden'], 12)"
   ]
  },
  {
   "cell_type": "code",
   "execution_count": null,
   "metadata": {
    "papermill": {
     "duration": null,
     "end_time": null,
     "exception": null,
     "start_time": null,
     "status": "pending"
    },
    "tags": []
   },
   "outputs": [],
   "source": [
    "#hide \n",
    "# SOURCE: https://github.com/chekos/altair_themes_blog/blob/master/notebooks/vox_theme.py\n",
    "def vox_theme():\n",
    "    markColor = '#3e5c69'\n",
    "    \n",
    "    return {\n",
    "        'config': {\n",
    "            'background': '#fff',\n",
    "            'arc': { \n",
    "                'fill': markColor \n",
    "            },\n",
    "            'area': { \n",
    "                'fill': markColor \n",
    "            },\n",
    "            'line': { \n",
    "                'stroke': markColor \n",
    "            },\n",
    "            'path': { \n",
    "                'stroke': markColor \n",
    "            },\n",
    "            'rect': { \n",
    "                'fill': markColor \n",
    "            },\n",
    "            'shape': { \n",
    "                'stroke': markColor \n",
    "            },\n",
    "            'symbol': { \n",
    "                'fill': markColor \n",
    "            },\n",
    "            'axis': {\n",
    "                'domainWidth': 0.5,\n",
    "                'grid': True,\n",
    "                'labelPadding': 2,\n",
    "                'tickSize': 5,\n",
    "                'tickWidth': 0.5,\n",
    "                'titleFontWeight': 'normal',\n",
    "            },\n",
    "            'axisBand': {\n",
    "                'grid': False,\n",
    "            },\n",
    "            'axisX': {\n",
    "                'gridWidth': 0.2,\n",
    "            },  \n",
    "            'axisY': {\n",
    "                'gridDash': [3],\n",
    "                'gridWidth': 0.4,\n",
    "            },\n",
    "            'legend': {\n",
    "                'labelFontSize': 14,\n",
    "                'padding': 1,\n",
    "                'symbolType': 'square',\n",
    "            },\n",
    "            'range': {\n",
    "                'category': [\n",
    "                    '#3e5c69',\n",
    "                    '#6793a6',\n",
    "                    '#182429',\n",
    "                    '#0570b0',\n",
    "                    '#3690c0',\n",
    "                    '#74a9cf',\n",
    "                    '#a6bddb',\n",
    "                    '#e2ddf2',\n",
    "                ],\n",
    "            },\n",
    "        }\n",
    "        \n",
    "    }\n",
    "\n",
    "\n",
    "alt.themes.register('vox_theme', vox_theme)\n",
    "\n",
    "alt.themes.enable('vox_theme')"
   ]
  },
  {
   "cell_type": "code",
   "execution_count": null,
   "metadata": {
    "papermill": {
     "duration": null,
     "end_time": null,
     "exception": null,
     "start_time": null,
     "status": "pending"
    },
    "tags": []
   },
   "outputs": [],
   "source": [
    "#hide\n",
    "def threshold_artifacts():\n",
    "\n",
    "    threshold_boxes = pd.DataFrame([{'positive_min': .5,\n",
    "                                      'positive_max': 1,\n",
    "                                      'negative_min': -.5,\n",
    "                                      'negative_max': -1,\n",
    "                                      'neutral_min': -.2,\n",
    "                                      'neutral_max': .2}])\n",
    "\n",
    "    positive_line = alt.Chart(threshold_boxes).mark_rect(color='#488f31', opacity=0.06).encode(\n",
    "        y='positive_min:Q',\n",
    "        y2='positive_max:Q',\n",
    "    )\n",
    "\n",
    "    negative_line = alt.Chart(threshold_boxes).mark_rect(color='#f59b56', opacity=0.06).encode(\n",
    "        y='negative_min:Q',\n",
    "        y2='negative_max:Q'\n",
    "    )\n",
    "\n",
    "    neutral_line = alt.Chart(threshold_boxes).mark_rect(color='gray', opacity=0.1).encode(\n",
    "        y='neutral_min:Q',\n",
    "        y2='neutral_max:Q'\n",
    "    )\n",
    "\n",
    "    threshold_lines = pd.DataFrame([\n",
    "        {\"th_value\": -0.5, \"th\": \"Negative\"},\n",
    "        {\"th_value\": 0, \"th\": \"Neutral\"},\n",
    "        {\"th_value\": 0.5, \"th\": \"Positive\"},\n",
    "    ])\n",
    "\n",
    "    rules = alt.Chart(threshold_lines).mark_rule().encode(\n",
    "        y='th_value:Q',\n",
    "        color=alt.value('#224455'),\n",
    "        opacity=alt.value(0.5)\n",
    "    )\n",
    "\n",
    "    text = alt.Chart(threshold_lines).mark_text(\n",
    "        align='left', dx=-340, dy=-5\n",
    "    ).encode(\n",
    "        alt.Y('th_value:Q'),\n",
    "        text='th',\n",
    "        opacity=alt.value(0.8)\n",
    "    )\n",
    "\n",
    "    return positive_line + neutral_line + negative_line + rules + text "
   ]
  },
  {
   "cell_type": "code",
   "execution_count": null,
   "metadata": {
    "papermill": {
     "duration": null,
     "end_time": null,
     "exception": null,
     "start_time": null,
     "status": "pending"
    },
    "tags": []
   },
   "outputs": [],
   "source": [
    "#hide_input\n",
    "def plot_main_chart(df):\n",
    "\n",
    "    click = alt.selection_multi(encodings=['color'])\n",
    "\n",
    "    brush = alt.selection(type='interval', encodings=['x'])\n",
    "\n",
    "    base = alt.Chart(df).mark_circle(opacity=0.5, size=120).encode(\n",
    "                x = alt.X('created_at_est:T',\n",
    "                    axis = alt.Axis(title='Drag to Select Interval', tickCount=0)),\n",
    "                y = alt.Y('sentiment:Q',\n",
    "                    axis = alt.Axis(title='', tickCount=0, grid=False), \n",
    "                    scale = alt.Scale(domain=(-1.1, 1.1))),\n",
    "                color = alt.Color('color', scale=None),\n",
    "            ).transform_filter(\n",
    "                click\n",
    "            ).properties(\n",
    "                width=700,\n",
    "                height=450\n",
    "            )\n",
    "\n",
    "    upper = base.encode(\n",
    "                x = alt.X('created_at_est:T',\n",
    "                    axis = alt.Axis(title='Tweeted At', labels=True),\n",
    "                    scale=alt.Scale(domain=brush)),\n",
    "                y = alt.Y('sentiment:Q',\n",
    "                    axis = alt.Axis(title='Sentiment', tickCount=4), \n",
    "                    scale = alt.Scale(domain=(-1, 1))),\n",
    "                tooltip = ['username', 'tweet_text'],\n",
    "            ).add_selection(alt.selection_single()\n",
    "            )\n",
    "\n",
    "    lower = base.properties(\n",
    "                height=40\n",
    "            ).add_selection(brush)\n",
    "        \n",
    "    legend = alt.Chart(df).mark_rect().encode(\n",
    "        y=alt.Y('username_label:N', axis=alt.Axis(title='')),\n",
    "        color=alt.condition(click, 'color', alt.value('lightgray'), legend=None, scale=None),\n",
    "        size=alt.value(150)\n",
    "    ).properties(\n",
    "        selection=click,\n",
    "        title=\"User\"\n",
    "    )\n",
    "\n",
    "\n",
    "    return (upper + threshold_artifacts() | legend) & lower \n",
    "\n",
    "def plot_word_frequency(words, color, title):\n",
    "    bars = alt.Chart(words).mark_bar(color=color).encode(\n",
    "        x=alt.X('times_used:Q', \n",
    "                axis=alt.Axis(title='Times Used')),\n",
    "        y=alt.Y('word:O', sort='-x', axis=alt.Axis(title='Word'))\n",
    "    ).properties(\n",
    "        title=title\n",
    "    )\n",
    "\n",
    "    text = bars.mark_text(\n",
    "        align='left',\n",
    "        baseline='middle',\n",
    "        dx=3  \n",
    "    ).encode(\n",
    "        text='times_used:Q'\n",
    "    ).properties(\n",
    "        width=300\n",
    "    )\n",
    "\n",
    "    return (bars + text)"
   ]
  },
  {
   "cell_type": "markdown",
   "metadata": {
    "papermill": {
     "duration": null,
     "end_time": null,
     "exception": null,
     "start_time": null,
     "status": "pending"
    },
    "tags": []
   },
   "source": [
    "<h4 align=\"center\">Recent Tweets from @JoeBiden and @realDonaldTrump</h4>"
   ]
  },
  {
   "cell_type": "code",
   "execution_count": null,
   "metadata": {
    "papermill": {
     "duration": null,
     "end_time": null,
     "exception": null,
     "start_time": null,
     "status": "pending"
    },
    "tags": []
   },
   "outputs": [],
   "source": [
    "#hide_input\n",
    "plot_main_chart(df)"
   ]
  },
  {
   "cell_type": "markdown",
   "metadata": {
    "papermill": {
     "duration": null,
     "end_time": null,
     "exception": null,
     "start_time": null,
     "status": "pending"
    },
    "tags": []
   },
   "source": [
    "<h4 align=\"center\">Most Frequent Words in Recent Tweets</h4>"
   ]
  },
  {
   "cell_type": "code",
   "execution_count": null,
   "metadata": {
    "papermill": {
     "duration": null,
     "end_time": null,
     "exception": null,
     "start_time": null,
     "status": "pending"
    },
    "tags": []
   },
   "outputs": [],
   "source": [
    "#hide-input\n",
    "plot_word_frequency(biden_words, 'steelblue', '@JoeBiden') | plot_word_frequency(trump_words, 'red', '@realDonaldTrump')"
   ]
  },
  {
   "cell_type": "code",
   "execution_count": null,
   "metadata": {
    "papermill": {
     "duration": null,
     "end_time": null,
     "exception": null,
     "start_time": null,
     "status": "pending"
    },
    "tags": []
   },
   "outputs": [],
   "source": []
  }
 ],
 "metadata": {
  "kernelspec": {
   "display_name": "Python 3.7.2 64-bit",
   "metadata": {
    "interpreter": {
     "hash": "aee8b7b246df8f9039afb4144a1f6fd8d2ca17a180786b69acc140d282b71a49"
    }
   },
   "name": "Python 3.7.2 64-bit"
  },
  "language_info": {
   "codemirror_mode": {
    "name": "ipython",
    "version": 3
   },
   "file_extension": ".py",
   "mimetype": "text/x-python",
   "name": "python",
   "nbconvert_exporter": "python",
   "pygments_lexer": "ipython3",
   "version": "3.6.12"
  },
  "papermill": {
   "default_parameters": {},
   "duration": 6.302217,
   "end_time": "2020-10-31T17:39:03.341834",
   "environment_variables": {},
   "exception": true,
   "input_path": "2020-21-10-Candidate-Tweets.ipynb",
   "output_path": "2020-21-10-Candidate-Tweets.ipynb",
   "parameters": {},
   "start_time": "2020-10-31T17:38:57.039617",
   "version": "2.2.0"
  }
 },
 "nbformat": 4,
 "nbformat_minor": 2
}