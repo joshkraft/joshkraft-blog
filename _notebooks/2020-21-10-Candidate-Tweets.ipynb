{
 "metadata": {
  "language_info": {
   "codemirror_mode": {
    "name": "ipython",
    "version": 3
   },
   "file_extension": ".py",
   "mimetype": "text/x-python",
   "name": "python",
   "nbconvert_exporter": "python",
   "pygments_lexer": "ipython3",
   "version": "3.7.2-final"
  },
  "orig_nbformat": 2,
  "kernelspec": {
   "name": "Python 3.7.2 64-bit",
   "display_name": "Python 3.7.2 64-bit",
   "metadata": {
    "interpreter": {
     "hash": "aee8b7b246df8f9039afb4144a1f6fd8d2ca17a180786b69acc140d282b71a49"
    }
   }
  }
 },
 "nbformat": 4,
 "nbformat_minor": 2,
 "cells": [
  {
   "source": [
    "# \"US Presidential Candidate Tweets\"\n",
    "> \"A visualization of recent tweets from candidates in the 2020 US Presidential Election\"\n",
    "\n",
    "- toc: false\n",
    "- branch: master\n",
    "- badges: true\n",
    "- comments: true\n",
    "- categories: [Data Visualization]\n",
    "- image: \n",
    "- hide: false\n",
    "- search_exclude: true"
   ],
   "cell_type": "markdown",
   "metadata": {}
  },
  {
   "source": [
    "## Imports Modules"
   ],
   "cell_type": "markdown",
   "metadata": {}
  },
  {
   "cell_type": "code",
   "execution_count": 3,
   "metadata": {},
   "outputs": [],
   "source": [
    "#collapse-hide\n",
    "import altair as alt\n",
    "import pandas as pd"
   ]
  },
  {
   "source": [
    "## Import Data"
   ],
   "cell_type": "markdown",
   "metadata": {}
  },
  {
   "cell_type": "code",
   "execution_count": 7,
   "metadata": {},
   "outputs": [],
   "source": [
    "def read_tweet_data(username, date):\n",
    "  url = \"https://raw.githubusercontent.com/joshkraft/daily-candidate-tweets/main/data/\" + str(username) + \"/\" + str(date) + \".csv\"\n",
    "  df = pd.read_csv(url)\n",
    "  return df\n",
    "\n",
    "biden_tweets = read_tweet_data(\"JoeBiden\", \"2020-10-20\")\n",
    "trump_tweets = read_tweet_data(\"realDonaldTrump\", \"2020-10-20\")"
   ]
  },
  {
   "cell_type": "code",
   "execution_count": 13,
   "metadata": {},
   "outputs": [
    {
     "output_type": "execute_result",
     "data": {
      "text/plain": [
       "'Lesley Stahl of 60 Minutes not wearing a mask in the White House after her interview with me. Much more to come. https://t.co/0plZG6a4fH'"
      ]
     },
     "metadata": {},
     "execution_count": 13
    }
   ],
   "source": []
  },
  {
   "source": [
    "## Plot"
   ],
   "cell_type": "markdown",
   "metadata": {}
  },
  {
   "cell_type": "code",
   "execution_count": null,
   "metadata": {},
   "outputs": [],
   "source": []
  }
 ]
}