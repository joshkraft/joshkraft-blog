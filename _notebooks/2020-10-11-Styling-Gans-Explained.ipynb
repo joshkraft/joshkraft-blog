{
 "metadata": {
  "language_info": {
   "codemirror_mode": {
    "name": "ipython",
    "version": 3
   },
   "file_extension": ".py",
   "mimetype": "text/x-python",
   "name": "python",
   "nbconvert_exporter": "python",
   "pygments_lexer": "ipython3",
   "version": 3
  },
  "orig_nbformat": 2
 },
 "nbformat": 4,
 "nbformat_minor": 2,
 "cells": [
  {
   "cell_type": "code",
   "execution_count": null,
   "metadata": {},
   "outputs": [],
   "source": [
    "# \"Styling GANs Explained\"\n",
    "> \"How Neural Networks Create Images\"\n",
    "\n",
    "- toc: false\n",
    "- branch: master\n",
    "- badges: true\n",
    "- comments: true\n",
    "- categories: [Data Visualization]\n",
    "- hide: true\n",
    "- search_exclude: false\n",
    "- image: "
   ]
  }
 ]
}